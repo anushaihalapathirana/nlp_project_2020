{
 "cells": [
  {
   "cell_type": "markdown",
   "metadata": {},
   "source": [
    "## Project 10: Emotion Analysis in Dataset\n",
    "This project aims to investigate the emotion and sentiment from a set of publicly open dataset and test various commonalities for identifying of the emotion. First, collect the emotion dataset from Kaggle available at https://www.kaggle.com/praveengovi/emotions-dataset-for-nlp. Note that there is also a provided for machine learning based approach for classification. "
   ]
  },
  {
   "cell_type": "code",
   "execution_count": 1,
   "metadata": {},
   "outputs": [],
   "source": [
    "import pandas as pd\n",
    "import numpy as np\n",
    "\n",
    "train = pd.read_csv('train.txt', header=None, names=['text','label'], sep=';')\n",
    "test = pd.read_csv('test.txt', header=None, names=['text','label'], sep=';')\n",
    "val = pd.read_csv('val.txt', header=None, names=['text','label'], sep=';')\n",
    "harv_inquirer = pd.read_excel('http://www.wjh.harvard.edu/~inquirer/inquirerbasic.xls')\n",
    "harv_inquirer['Entry'] = harv_inquirer.Entry.astype(str)"
   ]
  },
  {
   "cell_type": "markdown",
   "metadata": {},
   "source": [
    "1.\tUse the Harvard General Inquirer available in http://www.wjh.harvard.edu/~inquirer/inquirerbasic.xls and try to identify wording associated to each of the five categories “sadness”, “anger”, “love”, “surprise”, “joy”. Record the obtained wording in a separate database D that will be part of deliverables. \n",
    "\n",
    "Note: Description of the harvard columns is here: http://www.wjh.harvard.edu/~inquirer/homecat.htm"
   ]
  },
  {
   "cell_type": "code",
   "execution_count": 10,
   "metadata": {},
   "outputs": [],
   "source": [
    "from text_processing import *"
   ]
  },
  {
   "cell_type": "markdown",
   "metadata": {},
   "source": [
    "The Harvard General Inquirer does not have a nice way to match the categories.\n",
    "These can be toyed around with to filter with different categories to include / exclude for each label. "
   ]
  },
  {
   "cell_type": "code",
   "execution_count": 3,
   "metadata": {},
   "outputs": [],
   "source": [
    "category_dict = {\n",
    "    'surprise':{\n",
    "        'include': ['Arousal'],\n",
    "        'exclude': []\n",
    "        },\n",
    "    'joy':{\n",
    "        'include': ['Positiv'],\n",
    "        'exclude': ['Affil']\n",
    "        },\n",
    "    'love':{\n",
    "        'include': ['Affil'],\n",
    "        'exclude': ['Negativ']\n",
    "        },\n",
    "    'anger':{\n",
    "        'include': ['Hostile'],\n",
    "        'exclude': []  \n",
    "        },\n",
    "    'sadness':{\n",
    "        'include': ['Negativ'],\n",
    "        'exclude': ['Hostile']\n",
    "        },\n",
    "    'fear':{\n",
    "        'include': ['Weak'],\n",
    "        'exclude': []\n",
    "    }\n",
    "}"
   ]
  },
  {
   "cell_type": "code",
   "execution_count": 4,
   "metadata": {
    "scrolled": true
   },
   "outputs": [],
   "source": [
    "match_targets = get_all_cat(category_dict, harv_inquirer)"
   ]
  },
  {
   "cell_type": "code",
   "execution_count": 5,
   "metadata": {},
   "outputs": [
    {
     "data": {
      "text/html": [
       "<div>\n",
       "<style scoped>\n",
       "    .dataframe tbody tr th:only-of-type {\n",
       "        vertical-align: middle;\n",
       "    }\n",
       "\n",
       "    .dataframe tbody tr th {\n",
       "        vertical-align: top;\n",
       "    }\n",
       "\n",
       "    .dataframe thead th {\n",
       "        text-align: right;\n",
       "    }\n",
       "</style>\n",
       "<table border=\"1\" class=\"dataframe\">\n",
       "  <thead>\n",
       "    <tr style=\"text-align: right;\">\n",
       "      <th></th>\n",
       "      <th>entry</th>\n",
       "      <th>label</th>\n",
       "    </tr>\n",
       "  </thead>\n",
       "  <tbody>\n",
       "    <tr>\n",
       "      <td>0</td>\n",
       "      <td>abhor</td>\n",
       "      <td>surprise</td>\n",
       "    </tr>\n",
       "    <tr>\n",
       "      <td>1</td>\n",
       "      <td>acrimonious</td>\n",
       "      <td>surprise</td>\n",
       "    </tr>\n",
       "    <tr>\n",
       "      <td>2</td>\n",
       "      <td>acrimony</td>\n",
       "      <td>surprise</td>\n",
       "    </tr>\n",
       "    <tr>\n",
       "      <td>3</td>\n",
       "      <td>adamant</td>\n",
       "      <td>surprise</td>\n",
       "    </tr>\n",
       "    <tr>\n",
       "      <td>4</td>\n",
       "      <td>affection</td>\n",
       "      <td>surprise</td>\n",
       "    </tr>\n",
       "    <tr>\n",
       "      <td>...</td>\n",
       "      <td>...</td>\n",
       "      <td>...</td>\n",
       "    </tr>\n",
       "    <tr>\n",
       "      <td>4735</td>\n",
       "      <td>worrier</td>\n",
       "      <td>fear</td>\n",
       "    </tr>\n",
       "    <tr>\n",
       "      <td>4736</td>\n",
       "      <td>worry</td>\n",
       "      <td>fear</td>\n",
       "    </tr>\n",
       "    <tr>\n",
       "      <td>4737</td>\n",
       "      <td>worsen</td>\n",
       "      <td>fear</td>\n",
       "    </tr>\n",
       "    <tr>\n",
       "      <td>4738</td>\n",
       "      <td>wound</td>\n",
       "      <td>fear</td>\n",
       "    </tr>\n",
       "    <tr>\n",
       "      <td>4739</td>\n",
       "      <td>yield</td>\n",
       "      <td>fear</td>\n",
       "    </tr>\n",
       "  </tbody>\n",
       "</table>\n",
       "<p>4740 rows × 2 columns</p>\n",
       "</div>"
      ],
      "text/plain": [
       "            entry     label\n",
       "0           abhor  surprise\n",
       "1     acrimonious  surprise\n",
       "2        acrimony  surprise\n",
       "3         adamant  surprise\n",
       "4       affection  surprise\n",
       "...           ...       ...\n",
       "4735      worrier      fear\n",
       "4736        worry      fear\n",
       "4737       worsen      fear\n",
       "4738        wound      fear\n",
       "4739        yield      fear\n",
       "\n",
       "[4740 rows x 2 columns]"
      ]
     },
     "execution_count": 5,
     "metadata": {},
     "output_type": "execute_result"
    }
   ],
   "source": [
    "match_targets"
   ]
  },
  {
   "cell_type": "markdown",
   "metadata": {},
   "source": [
    "2.\tUse a simple string matching procedure to evaluate the matching of every utterance to each of the category. The category that yields the highest matching will be assumed to assigned to the underlined Calculate the accuracy of this prediction using the ground truth knowledge. "
   ]
  },
  {
   "cell_type": "code",
   "execution_count": 6,
   "metadata": {},
   "outputs": [],
   "source": [
    "def evaluate_matches(labels, targets, verbose=True):\n",
    "    matches = pd.get_dummies(labels) * 0\n",
    "    \n",
    "    match_target = pd.get_dummies(targets, columns=['label'], prefix='', prefix_sep='')\n",
    "    match_target = match_target.groupby('entry').sum()\n",
    "    i = 0\n",
    "    for word, vals in match_target.iterrows():\n",
    "        t = train.text.str.contains(word).astype(int)\n",
    "        for col in match_target.columns:\n",
    "            matches[col] += t * vals[col]\n",
    "        if verbose:\n",
    "            i += 1\n",
    "            print(\"{:<5}%\".format(round(i * 100 / len(match_target.index), 2)), end='\\r')\n",
    "    print('')\n",
    "    return matches"
   ]
  },
  {
   "cell_type": "code",
   "execution_count": 7,
   "metadata": {},
   "outputs": [
    {
     "name": "stdout",
     "output_type": "stream",
     "text": [
      "100.0%\n",
      "Accuracy of string matching:  0.34\n"
     ]
    }
   ],
   "source": [
    "matches = evaluate_matches(train.label, match_targets, verbose = True)\n",
    "print('Accuracy of string matching: ', (matches.idxmax(1) == train.label).mean().round(2))"
   ]
  },
  {
   "cell_type": "markdown",
   "metadata": {},
   "source": [
    "3.\tConsider categories generated by Empath Client https://github.com/Ejhfast/empath-client. Apply Empath Client to each utterance and record categories who held non-zero weights in the database D. Elaborate how you can match these categories to each of the five categories above using appropriate linguistic constructs (entailment, synonymy, hyponymy, hypernymy, etc..). Calculate the accuracy of this prediction approach.\n",
    "\n",
    "Note: pip install empath"
   ]
  },
  {
   "cell_type": "code",
   "execution_count": 12,
   "metadata": {},
   "outputs": [
    {
     "name": "stdout",
     "output_type": "stream",
     "text": [
      "99.99%\r"
     ]
    }
   ],
   "source": [
    "data = process_lexicon(train.text)"
   ]
  },
  {
   "cell_type": "code",
   "execution_count": 13,
   "metadata": {},
   "outputs": [
    {
     "data": {
      "text/plain": [
       "0        [cold, nervousness, body, violence, love, sham...\n",
       "1        [hate, nervousness, swearing_terms, suffering,...\n",
       "2        [cold, nervousness, wealthy, social_media, int...\n",
       "3        [hate, nervousness, suffering, furniture, opti...\n",
       "4        [hate, nervousness, suffering, optimism, fear,...\n",
       "                               ...                        \n",
       "15995    [cold, nervousness, body, violence, love, sham...\n",
       "15996    [cold, hate, nervousness, weakness, school, co...\n",
       "15997    [cold, aggression, masculine, nervousness, bod...\n",
       "15998    [cold, hate, nervousness, swearing_terms, soci...\n",
       "15999    [cold, nervousness, ridicule, body, violence, ...\n",
       "Length: 16000, dtype: object"
      ]
     },
     "execution_count": 13,
     "metadata": {},
     "output_type": "execute_result"
    }
   ],
   "source": [
    "pd.Series(data)"
   ]
  },
  {
   "cell_type": "markdown",
   "metadata": {},
   "source": [
    "4.\tWe consider the semantic similarity between each of the five categories with every utterance. Use a semantic similarity so that the overall semantic similarity between category C and Utterance S is equal to the arithmetic average of the sum of the Wu and Palmer semantic similarity of C with each noun contained in S (should use part of speech tagger to identify noun category). Report this information in database D. Therefore, for each, utterance, the category that yields the smallest semantic similarity will be assigned to it. Calculate the overall accuracy accordingly."
   ]
  },
  {
   "cell_type": "code",
   "execution_count": null,
   "metadata": {},
   "outputs": [],
   "source": []
  },
  {
   "cell_type": "markdown",
   "metadata": {},
   "source": [
    "5.\tUse the SentiStrength from http://sentistrength.wlv.ac.uk/ to determine the positive, negative and overall (sum of positive and negative) sentiment score for each utterance. Provide this information in database D. Comment on whether the sentiment score can be used an indicator to discriminate the various emotion states."
   ]
  },
  {
   "cell_type": "code",
   "execution_count": null,
   "metadata": {},
   "outputs": [],
   "source": []
  },
  {
   "cell_type": "markdown",
   "metadata": {},
   "source": [
    "6.\tNow we want to develop a machine learning approach for learning to predict the emotion state. For this purpose, tokenize the original data and split the original data into 70% training and 30% testing, and suggest various filtering strategies (e-g-, no filtering, standard stopword removal, selected set of stopwords, …). "
   ]
  },
  {
   "cell_type": "code",
   "execution_count": null,
   "metadata": {},
   "outputs": [],
   "source": []
  },
  {
   "cell_type": "markdown",
   "metadata": {},
   "source": [
    "7.\tUse various feature engineering, which includes CountVectorizer, tf-Idf for size of vocabulary (all vocabulary,3000, 2000, 1000, 500, 100 of most frequent words). Compare a set of state-of art machine learning classifiers (Naives Bayes, Linear regression, SVM, Decision, Tree and Random Forest). Draw a plot showing the accuracy of the different classifiers and various features. For the classifier that yields the best accuracy, record the confusion matrix, Precision and recall. Compare this to Naives Bayes and Linear regression. Repeat the above reasoning for various filtering strategies to ensure the select the strategy that maximizes the overall accuracy. Provide the result in a table."
   ]
  },
  {
   "cell_type": "code",
   "execution_count": null,
   "metadata": {},
   "outputs": [],
   "source": []
  },
  {
   "cell_type": "markdown",
   "metadata": {},
   "source": [
    "8.\tWe want to test the performance of deep learning classifier. For this purpose, we shall imitate the  paper available at \"Convolutional neural networks for sentence classification.\" arXiv preprint arXiv:1408.5882 by Yon. (a Python implementation of the above paper is also available online). Imitate the above reasoning and represent the embedding of each word in sentence using word2vec representation. The features are now represented by the embedding vectors handled in the same way as Yon’s paper above. You should attempt to fine-tune the parameters of the CNN architecture to yield maximum accuracy. Represent the accuracy, precision, recall and confusion matrix of the CNN classifier."
   ]
  },
  {
   "cell_type": "code",
   "execution_count": null,
   "metadata": {},
   "outputs": [],
   "source": []
  },
  {
   "cell_type": "markdown",
   "metadata": {},
   "source": [
    "9.\tRepeat the process of 8) when using FastText embedding instead of word2vec"
   ]
  },
  {
   "cell_type": "code",
   "execution_count": null,
   "metadata": {},
   "outputs": [],
   "source": []
  },
  {
   "cell_type": "markdown",
   "metadata": {},
   "source": [
    "10.\tDesign a simple GUI of your choice that show the execution of each of the above tasks in a way to ease the task of the assessor or external end-user"
   ]
  }
 ],
 "metadata": {
  "kernelspec": {
   "display_name": "Python 3",
   "language": "python",
   "name": "python3"
  },
  "language_info": {
   "codemirror_mode": {
    "name": "ipython",
    "version": 3
   },
   "file_extension": ".py",
   "mimetype": "text/x-python",
   "name": "python",
   "nbconvert_exporter": "python",
   "pygments_lexer": "ipython3",
   "version": "3.7.4"
  }
 },
 "nbformat": 4,
 "nbformat_minor": 2
}
