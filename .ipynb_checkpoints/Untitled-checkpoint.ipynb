{
 "cells": [
  {
   "cell_type": "markdown",
   "metadata": {},
   "source": [
    "## Project 10: Emotion Analysis in Dataset\n",
    "This project aims to investigate the emotion and sentiment from a set of publicly open dataset and test various commonalities for identifying of the emotion. First, collect the emotion dataset from Kaggle available at https://www.kaggle.com/praveengovi/emotions-dataset-for-nlp. Note that there is also a provided for machine learning based approach for classification. "
   ]
  },
  {
   "cell_type": "code",
   "execution_count": 145,
   "metadata": {},
   "outputs": [],
   "source": [
    "import pandas as pd\n",
    "import numpy as np\n",
    "\n",
    "train = pd.read_csv('train.txt', header=None, names=['text','label'], sep=';')\n",
    "test = pd.read_csv('test.txt', header=None, names=['text','label'], sep=';')\n",
    "val = pd.read_csv('val.txt', header=None, names=['text','label'], sep=';')"
   ]
  },
  {
   "cell_type": "markdown",
   "metadata": {},
   "source": [
    "1.\tUse the Harvard General Inquirer available in http://www.wjh.harvard.edu/~inquirer/inquirerbasic.xls and try to identify wording associated to each of the five categories “sadness”, “anger”, “love”, “surprise”, “joy”. Record the obtained wording in a separate database D that will be part of deliverables. \n",
    "\n",
    "Note: Description of the harvard columns is here: http://www.wjh.harvard.edu/~inquirer/homecat.htm"
   ]
  },
  {
   "cell_type": "code",
   "execution_count": 485,
   "metadata": {},
   "outputs": [],
   "source": [
    "harv_inquirer = pd.read_excel('http://www.wjh.harvard.edu/~inquirer/inquirerbasic.xls')\n",
    "harv_inquirer['Entry'] = harv_inquirer.Entry.astype(str)\n",
    "\n",
    "def get_category(label, categories, not_categories = [], harv_inquirer = harv_inquirer):\n",
    "    cond = True\n",
    "    for cat in categories:\n",
    "        cond = cond&~harv_inquirer[cat].isna()\n",
    "    if len(not_categories) > 0:\n",
    "        for not_cat in not_categories:\n",
    "            cond = cond&harv_inquirer[not_cat].isna()\n",
    "    words_t = harv_inquirer.loc[cond,'Entry'].str.lower()\n",
    "    words_t = pd.DataFrame(words_t.str.split('#').str[0])\n",
    "    words_t['label'] = label\n",
    "    words_t.columns = words_t.columns.str.lower()\n",
    "    words_t.drop_duplicates(inplace=True)\n",
    "    return words_t\n",
    "\n",
    "def get_all_cat(category_dict, harv_inquirer = harv_inquirer):\n",
    "    df = pd.DataFrame(columns=['entry','label'])\n",
    "    for label, categories in category_dict.items():\n",
    "        df = df.append(get_category(label, categories['include'], categories['exclude']))\n",
    "    df = df.reset_index(drop = True)\n",
    "    df = pd.get_dummies(df.label).set_index(df.entry).reset_index()\n",
    "    df = df.groupby('entry').sum()\n",
    "    return df.reindex(sorted(df.columns), axis=1)"
   ]
  },
  {
   "cell_type": "code",
   "execution_count": 535,
   "metadata": {},
   "outputs": [],
   "source": [
    "category_dict = {\n",
    "    'surprise':{\n",
    "        'include': ['Arousal'],\n",
    "        'exclude': []\n",
    "        },\n",
    "    'joy':{\n",
    "        'include': ['Positiv'],\n",
    "        'exclude': ['Affil']\n",
    "        },\n",
    "    'love':{\n",
    "        'include': ['Affil'],\n",
    "        'exclude': ['Negativ']\n",
    "        },\n",
    "    'anger':{\n",
    "        'include': ['Hostile'],\n",
    "        'exclude': []  \n",
    "        },\n",
    "    'sadness':{\n",
    "        'include': ['Negativ'],\n",
    "        'exclude': ['Hostile']\n",
    "        },\n",
    "    'fear':{\n",
    "        'include': ['Weak'],\n",
    "        'exclude': []\n",
    "    }\n",
    "}"
   ]
  },
  {
   "cell_type": "code",
   "execution_count": 538,
   "metadata": {
    "scrolled": true
   },
   "outputs": [
    {
     "data": {
      "text/plain": [
       "sadness     1410\n",
       "joy         1364\n",
       "anger        740\n",
       "fear         647\n",
       "love         434\n",
       "surprise     145\n",
       "dtype: int64"
      ]
     },
     "execution_count": 538,
     "metadata": {},
     "output_type": "execute_result"
    }
   ],
   "source": [
    "match_target = get_all_cat(category_dict)\n",
    "match_target.sum().sort_values(ascending=False)"
   ]
  },
  {
   "cell_type": "markdown",
   "metadata": {},
   "source": [
    "2.\tUse a simple string matching procedure to evaluate the matching of every utterance to each of the category. The category that yields the highest matching will be assumed to assigned to the underlined Calculate the accuracy of this prediction using the ground truth knowledge. "
   ]
  },
  {
   "cell_type": "code",
   "execution_count": 539,
   "metadata": {},
   "outputs": [
    {
     "name": "stdout",
     "output_type": "stream",
     "text": [
      "100.0%\r"
     ]
    }
   ],
   "source": [
    "matches = pd.get_dummies(train.label) * 0\n",
    "i = 0\n",
    "for word, vals in match_target.iterrows():\n",
    "    t = train.text.str.contains(word).astype(int)\n",
    "    for col in match_target.columns:\n",
    "        matches[col] += t * vals[col]\n",
    "    i += 1\n",
    "    print(\"{:<5}%\".format(round(i * 100 / len(match_target.index), 2)), end='\\r')\n",
    "print('')"
   ]
  },
  {
   "cell_type": "code",
   "execution_count": 542,
   "metadata": {},
   "outputs": [
    {
     "name": "stdout",
     "output_type": "stream",
     "text": [
      "Accuracy of string matching:  0.34 %\n"
     ]
    }
   ],
   "source": [
    "print('Accuracy of string matching: ', (matches.idxmax(1) == train.label).mean().round(2), '%')"
   ]
  },
  {
   "cell_type": "markdown",
   "metadata": {},
   "source": [
    "3.\tConsider categories generated by Empath Client https://github.com/Ejhfast/empath-client. Apply Empath Client to each utterance and record categories who held non-zero weights in the database D. Elaborate how you can match these categories to each of the five categories above using appropriate linguistic constructs (entailment, synonymy, hyponymy, hypernymy, etc..). Calculate the accuracy of this prediction approach.\n",
    "4.\tWe consider the semantic similarity between each of the five categories with every utterance. Use a semantic similarity so that the overall semantic similarity between category C and Utterance S is equal to the arithmetic average of the sum of the Wu and Palmer semantic similarity of C with each noun contained in S (should use part of speech tagger to identify noun category). Report this information in database D. Therefore, for each, utterance, the category that yields the smallest semantic similarity will be assigned to it. Calculate the overall accuracy accordingly.\n",
    "5.\tUse the SentiStrength from http://sentistrength.wlv.ac.uk/ to determine the positive, negative and overall (sum of positive and negative) sentiment score for each utterance. Provide this information in database D. Comment on whether the sentiment score can be used an indicator to discriminate the various emotion states.\n",
    "6.\tNow we want to develop a machine learning approach for learning to predict the emotion state. For this purpose, tokenize the original data and split the original data into 70% training and 30% testing, and suggest various filtering strategies (e-g-, no filtering, standard stopword removal, selected set of stopwords, …). \n",
    "7.\tUse various feature engineering, which includes CountVectorizer, tf-Idf for size of vocabulary (all vocabulary,3000, 2000, 1000, 500, 100 of most frequent words). Compare a set of state-of art machine learning classifiers (Naives Bayes, Linear regression, SVM, Decision, Tree and Random Forest). Draw a plot showing the accuracy of the different classifiers and various features. For the classifier that yields the best accuracy, record the confusion matrix, Precision and recall. Compare this to Naives Bayes and Linear regression. Repeat the above reasoning for various filtering strategies to ensure the select the strategy that maximizes the overall accuracy. Provide the result in a table.\n",
    "8.\tWe want to test the performance of deep learning classifier. For this purpose, we shall imitate the  paper available at \"Convolutional neural networks for sentence classification.\" arXiv preprint arXiv:1408.5882 by Yon. (a Python implementation of the above paper is also available online). Imitate the above reasoning and represent the embedding of each word in sentence using word2vec representation. The features are now represented by the embedding vectors handled in the same way as Yon’s paper above. You should attempt to fine-tune the parameters of the CNN architecture to yield maximum accuracy. Represent the accuracy, precision, recall and confusion matrix of the CNN classifier.\n",
    "9.\tRepeat the process of 8) when using FastText embedding instead of word2vec\n",
    "10.\tDesign a simple GUI of your choice that show the execution of each of the above tasks in a way to ease the task of the assessor or external end-user"
   ]
  }
 ],
 "metadata": {
  "kernelspec": {
   "display_name": "Python 3",
   "language": "python",
   "name": "python3"
  },
  "language_info": {
   "codemirror_mode": {
    "name": "ipython",
    "version": 3
   },
   "file_extension": ".py",
   "mimetype": "text/x-python",
   "name": "python",
   "nbconvert_exporter": "python",
   "pygments_lexer": "ipython3",
   "version": "3.7.4"
  }
 },
 "nbformat": 4,
 "nbformat_minor": 2
}
